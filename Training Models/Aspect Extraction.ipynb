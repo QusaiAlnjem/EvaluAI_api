{
 "cells": [
  {
   "cell_type": "code",
   "execution_count": 2,
   "id": "41bddf18",
   "metadata": {},
   "outputs": [],
   "source": [
    "import os\n",
    "import json\n",
    "import pandas as pd\n",
    "import numpy as np\n",
    "import torch\n",
    "from torch.utils.data import Dataset\n",
    "from transformers import BertTokenizerFast, BertForTokenClassification\n",
    "from transformers import TrainingArguments, Trainer\n",
    "from sklearn.model_selection import train_test_split\n",
    "from seqeval.metrics import precision_score, recall_score, f1_score"
   ]
  },
  {
   "cell_type": "markdown",
   "id": "638e1841",
   "metadata": {},
   "source": [
    "### Loading & Preprocessig Datasets"
   ]
  },
  {
   "cell_type": "markdown",
   "id": "4cb12b8e",
   "metadata": {},
   "source": [
    "##### 1. ABSA Dataset"
   ]
  },
  {
   "cell_type": "code",
   "execution_count": 6,
   "id": "d592ac61",
   "metadata": {},
   "outputs": [],
   "source": [
    "def preprocess_absa_dataset(folder_path):\n",
    "  data = []\n",
    "  for root, _, files in os.walk(folder_path):\n",
    "    for file in files:\n",
    "      if file.endswith(\".json\"):\n",
    "        with open(os.path.join(root, file), \"r\", encoding=\"utf-8\") as f:\n",
    "          content = json.load(f)\n",
    "          for entry in content:\n",
    "            text = \" \".join(entry[\"token\"])\n",
    "            aspects = []\n",
    "            for asp in entry.get(\"aspects\", []):\n",
    "              term = \" \".join(asp[\"term\"])\n",
    "              # If from/to not present, try to find in text\n",
    "              try:\n",
    "                from_idx = text.index(term)\n",
    "                to_idx = from_idx + len(term)\n",
    "              except ValueError:\n",
    "                from_idx, to_idx = -1, -1\n",
    "              aspects.append({\"term\": term, \"from\": from_idx, \"to\": to_idx})\n",
    "            data.append({\n",
    "              \"text\": text,\n",
    "              \"aspects\": aspects,\n",
    "              \"no_aspect_mentioned\": len(aspects) == 0\n",
    "            })\n",
    "  return data"
   ]
  },
  {
   "cell_type": "code",
   "execution_count": 7,
   "id": "ae0cc150",
   "metadata": {},
   "outputs": [],
   "source": [
    "absa_data = preprocess_absa_dataset(r\"C:\\Users\\HP\\Downloads\\ABSA\")"
   ]
  },
  {
   "cell_type": "code",
   "execution_count": 5,
   "id": "b7d6ebda",
   "metadata": {},
   "outputs": [
    {
     "name": "stdout",
     "output_type": "stream",
     "text": [
      "35804\n",
      "{'text': 'The flavors are very fresh and pretty inobtrusive , nothing flashy .', 'aspects': [{'term': 'flavors', 'from': 4, 'to': 11}], 'no_aspect_mentioned': False}\n"
     ]
    }
   ],
   "source": [
    "print(len(absa_data))\n",
    "print(absa_data[15100])"
   ]
  },
  {
   "cell_type": "markdown",
   "id": "85f7bdec",
   "metadata": {},
   "source": [
    "##### 2. Semeval2014 Dataset"
   ]
  },
  {
   "cell_type": "code",
   "execution_count": 8,
   "id": "bb938b76",
   "metadata": {},
   "outputs": [],
   "source": [
    "def preprocess_semeval_dataset(folder_path):\n",
    "  data = []\n",
    "  for file in os.listdir(folder_path):\n",
    "    if file.endswith(\".csv\"):\n",
    "      df = pd.read_csv(os.path.join(folder_path, file))\n",
    "      for _, row in df.iterrows():\n",
    "        text = row[\"Sentence\"]\n",
    "        aspects = []\n",
    "        if pd.notna(row[\"Aspect Term\"]):\n",
    "          aspects.append({\n",
    "            \"term\": str(row[\"Aspect Term\"]),\n",
    "            \"from\": int(row[\"from\"]),\n",
    "            \"to\": int(row[\"to\"])\n",
    "          })\n",
    "        # Check if text already exists in the previous row\n",
    "        try:\n",
    "          if data[-1][\"text\"] == text:\n",
    "            data[-1][\"aspects\"].extend(aspects)\n",
    "            continue\n",
    "        except IndexError:\n",
    "          pass\n",
    "        data.append({\n",
    "          \"text\": text,\n",
    "          \"aspects\": aspects,\n",
    "          \"no_aspect_mentioned\": len(aspects) == 0\n",
    "        })\n",
    "  return data\n"
   ]
  },
  {
   "cell_type": "code",
   "execution_count": 9,
   "id": "8bd84411",
   "metadata": {},
   "outputs": [],
   "source": [
    "semeval_data = preprocess_semeval_dataset(r\"C:\\Users\\HP\\Downloads\\Semeval2014\")"
   ]
  },
  {
   "cell_type": "code",
   "execution_count": 8,
   "id": "e9eb3a4f",
   "metadata": {},
   "outputs": [
    {
     "name": "stdout",
     "output_type": "stream",
     "text": [
      "4073\n",
      "{'text': 'Love the food quality here but service was terrible', 'aspects': [{'term': 'food', 'from': 9, 'to': 13}, {'term': 'service', 'from': 29, 'to': 36}], 'no_aspect_mentioned': False}\n"
     ]
    }
   ],
   "source": [
    "print(len(semeval_data))\n",
    "print(semeval_data[2])"
   ]
  },
  {
   "cell_type": "markdown",
   "id": "4f916181",
   "metadata": {},
   "source": [
    "##### 3. No Aspect Dataset"
   ]
  },
  {
   "cell_type": "code",
   "execution_count": 10,
   "id": "fdffa91e",
   "metadata": {},
   "outputs": [],
   "source": [
    "def preprocess_no_aspect_dataset(csv_path):\n",
    "  df = pd.read_csv(csv_path)\n",
    "  data = []\n",
    "  for _, row in df.iterrows():\n",
    "    data.append({\n",
    "      \"text\": row[\"text\"],\n",
    "      \"aspects\": [],\n",
    "      \"no_aspect_mentioned\": True\n",
    "    })\n",
    "  return data"
   ]
  },
  {
   "cell_type": "code",
   "execution_count": 11,
   "id": "00d886e0",
   "metadata": {},
   "outputs": [],
   "source": [
    "noaspect_data = preprocess_no_aspect_dataset(r\"C:\\Users\\HP\\Downloads\\aspect_training_no_aspect.csv\")"
   ]
  },
  {
   "cell_type": "code",
   "execution_count": 11,
   "id": "b90ab6d2",
   "metadata": {},
   "outputs": [
    {
     "data": {
      "text/plain": [
       "813"
      ]
     },
     "execution_count": 11,
     "metadata": {},
     "output_type": "execute_result"
    }
   ],
   "source": [
    "len(noaspect_data)"
   ]
  },
  {
   "cell_type": "markdown",
   "id": "30d1612e",
   "metadata": {},
   "source": [
    "### Tokenization & Data Pipeline"
   ]
  },
  {
   "cell_type": "code",
   "execution_count": 31,
   "id": "1d96ce25",
   "metadata": {},
   "outputs": [
    {
     "data": {
      "text/plain": [
       "40690"
      ]
     },
     "execution_count": 31,
     "metadata": {},
     "output_type": "execute_result"
    }
   ],
   "source": [
    "full_data = absa_data + semeval_data + noaspect_data\n",
    "np.random.shuffle(full_data)\n",
    "len(full_data)"
   ]
  },
  {
   "cell_type": "code",
   "execution_count": 40,
   "id": "576eec2e",
   "metadata": {},
   "outputs": [],
   "source": [
    "tokenizer = BertTokenizerFast.from_pretrained(\"bert-base-uncased\")"
   ]
  },
  {
   "cell_type": "code",
   "execution_count": null,
   "id": "4108effe",
   "metadata": {},
   "outputs": [
    {
     "data": {
      "image/png": "[encoded data removed]",
      "text/plain": [
       "<Figure size 640x480 with 1 Axes>"
      ]
     },
     "metadata": {},
     "output_type": "display_data"
    },
    {
     "name": "stdout",
     "output_type": "stream",
     "text": [
      "Max length: 91\n",
      "Number of samples > 64: 86\n"
     ]
    },
    {
     "data": {
      "text/plain": [
       "'\\nThis statistic shows that the maximum length of a tokenized text is 91\\nwhile there is only 86 out of 40690 longer than 64.\\nTherefore, choosing a token length of 128 for the data is inefficient,\\nand you will increase the computational power and training time for nothing.\\nBest choice is 64.\\n'"
      ]
     },
     "execution_count": 21,
     "metadata": {},
     "output_type": "execute_result"
    }
   ],
   "source": [
    "import matplotlib.pyplot as plt\n",
    "\n",
    "lengths = [len(tokenizer.tokenize(item[\"text\"])) for item in full_data]\n",
    "\n",
    "plt.hist(lengths, bins=50)\n",
    "plt.xlabel(\"Tokenized Text Length\")\n",
    "plt.ylabel(\"Frequency\")\n",
    "plt.title(\"Distribution of Tokenized Text Lengths\")\n",
    "plt.show()\n",
    "\n",
    "print(f\"Max length: {max(lengths)}\")\n",
    "print(f\"Number of samples > 64: {sum(l > 64 for l in lengths)}\")\n",
    "\n",
    "\"\"\"\n",
    "This statistic shows that the maximum length of a tokenized text is 91\n",
    "while there is only 86 out of 40690 longer than 64.\n",
    "Therefore, choosing a token length of 128 for the data is inefficient,\n",
    "and you will increase the computational power and training time for nothing.\n",
    "Best choice is 64.\n",
    "\"\"\""
   ]
  },
  {
   "cell_type": "code",
   "execution_count": 10,
   "id": "74e5d147",
   "metadata": {},
   "outputs": [],
   "source": [
    "class AspectDataset(Dataset):\n",
    "    def __init__(self, data, tokenizer, max_length=64):\n",
    "        self.data = data  # Raw data with original text\n",
    "        self.tokenizer = tokenizer\n",
    "        self.max_length = max_length\n",
    "\n",
    "    def __len__(self):\n",
    "        return len(self.data)\n",
    "\n",
    "    def __getitem__(self, idx):\n",
    "        item = self.data[idx]\n",
    "        \n",
    "        # Tokenize here with offset mapping\n",
    "        encoding = self.tokenizer(\n",
    "            item[\"text\"],\n",
    "            truncation=True,\n",
    "            padding=\"max_length\",\n",
    "            max_length=self.max_length,\n",
    "            return_tensors=\"pt\",\n",
    "            return_offsets_mapping=True\n",
    "        )\n",
    "        \n",
    "        # Create BIO labels using the text and offset mapping\n",
    "        labels = self.create_bio_labels(\n",
    "            item[\"text\"], \n",
    "            item[\"aspects\"], \n",
    "            encoding[\"offset_mapping\"][0]\n",
    "        )\n",
    "        \n",
    "        return {\n",
    "            \"input_ids\": encoding[\"input_ids\"][0].squeeze(),\n",
    "            \"attention_mask\": encoding[\"attention_mask\"][0].squeeze(),\n",
    "            \"labels\": torch.tensor(labels, dtype=torch.long)\n",
    "        }\n",
    "    \n",
    "    def create_bio_labels(self, text, aspects, offset_mapping):\n",
    "        \"\"\"\n",
    "        Create BIO labels using character-level offsets\n",
    "        \"\"\"\n",
    "        labels = [0] * len(offset_mapping)  # 0 for 'O' (Outside)\n",
    "        \n",
    "        for aspect in aspects:\n",
    "            aspect_text = aspect[\"term\"]\n",
    "            start_char = aspect[\"from\"]\n",
    "            end_char = aspect[\"to\"]\n",
    "            \n",
    "            # Find tokens that overlap with the aspect span\n",
    "            for token_idx, (start_offset, end_offset) in enumerate(offset_mapping):\n",
    "                if start_offset == 0 and end_offset == 0:  # Special tokens ([CLS], [SEP], [PAD])\n",
    "                    continue\n",
    "                    \n",
    "                # Check if token overlaps with aspect span\n",
    "                if start_offset < end_char and end_offset > start_char:\n",
    "                    if start_offset >= start_char:  # Token starts within aspect\n",
    "                        if labels[token_idx] == 0:  # Not yet labeled\n",
    "                            # Check if this is the first token of the aspect\n",
    "                            is_first_token = True\n",
    "                            for prev_idx in range(token_idx):\n",
    "                                if labels[prev_idx] != 0:  # Previous token is part of an aspect\n",
    "                                    prev_start, prev_end = offset_mapping[prev_idx]\n",
    "                                    if prev_start < end_char and prev_end > start_char:\n",
    "                                        is_first_token = False\n",
    "                                        break\n",
    "                            \n",
    "                            labels[token_idx] = 1 if is_first_token else 2  # 1 for 'B-', 2 for 'I-'\n",
    "                        \n",
    "        return labels"
   ]
  },
  {
   "cell_type": "code",
   "execution_count": 42,
   "id": "24a40936",
   "metadata": {},
   "outputs": [],
   "source": [
    "train_data, test_data = train_test_split(full_data, test_size=0.2, random_state=42)\n",
    "train_dataset = AspectDataset(train_data, tokenizer)\n",
    "test_dataset = AspectDataset(test_data, tokenizer)"
   ]
  },
  {
   "cell_type": "markdown",
   "id": "ec78b641",
   "metadata": {},
   "source": [
    "### Training"
   ]
  },
  {
   "cell_type": "code",
   "execution_count": 35,
   "id": "ae702311",
   "metadata": {},
   "outputs": [
    {
     "name": "stderr",
     "output_type": "stream",
     "text": [
      "Some weights of BertForTokenClassification were not initialized from the model checkpoint at bert-base-uncased and are newly initialized: ['classifier.bias', 'classifier.weight']\n",
      "You should probably TRAIN this model on a down-stream task to be able to use it for predictions and inference.\n"
     ]
    }
   ],
   "source": [
    "model = BertForTokenClassification.from_pretrained(\"bert-base-uncased\", num_labels=3)  # O, B-ASP, I-ASP"
   ]
  },
  {
   "cell_type": "code",
   "execution_count": 36,
   "id": "bd084d4f",
   "metadata": {},
   "outputs": [],
   "source": [
    "def compute_metrics(p):\n",
    "  preds = np.argmax(p.predictions, axis=-1)\n",
    "  labels = p.label_ids\n",
    "\n",
    "  # Convert to BIO tag lists\n",
    "  id2label = {0: \"O\", 1: \"B-ASP\", 2: \"I-ASP\"}\n",
    "  pred_tags = [[id2label[p] for (p, l) in zip(pred, label) if l != -100] for pred, label in zip(preds, labels)]\n",
    "  true_tags = [[id2label[l] for (p, l) in zip(pred, label) if l != -100] for pred, label in zip(preds, labels)]\n",
    "\n",
    "  return {\n",
    "    \"precision\": precision_score(true_tags, pred_tags),\n",
    "    \"recall\": recall_score(true_tags, pred_tags),\n",
    "    \"f1\": f1_score(true_tags, pred_tags),\n",
    "  }"
   ]
  },
  {
   "cell_type": "code",
   "execution_count": 43,
   "id": "745d3041",
   "metadata": {},
   "outputs": [],
   "source": [
    "training_args = TrainingArguments(\n",
    "  output_dir=\"./aspect_extraction_model\",\n",
    "  num_train_epochs=3,\n",
    "  per_device_train_batch_size=8,\n",
    "  per_device_eval_batch_size=8,\n",
    "  eval_strategy=\"epoch\",\n",
    "  save_strategy=\"epoch\",\n",
    "  logging_dir=\"./logs\",\n",
    "  logging_steps=50,\n",
    "  learning_rate=2e-5,\n",
    "  weight_decay=0.01,\n",
    "  report_to=\"none\"\n",
    ")\n",
    "\n",
    "trainer = Trainer(\n",
    "  model=model,\n",
    "  args=training_args,\n",
    "  train_dataset=train_dataset,\n",
    "  eval_dataset=test_dataset,\n",
    "  compute_metrics=compute_metrics\n",
    ")"
   ]
  },
  {
   "cell_type": "code",
   "execution_count": null,
   "id": "512d9d44-a084-4210-8bc9-25fbf52a711d",
   "metadata": {},
   "outputs": [
    {
     "name": "stderr",
     "output_type": "stream",
     "text": [
      "c:\\Users\\HP\\anaconda3\\envs\\nlp-env\\lib\\site-packages\\torch\\utils\\data\\dataloader.py:665: UserWarning: 'pin_memory' argument is set as true but no accelerator is found, then device pinned memory won't be used.\n",
      "  warnings.warn(warn_msg)\n"
     ]
    },
    {
     "data": {
      "text/html": [
       "\n",
       "    <div>\n",
       "      \n",
       "      <progress value='12207' max='12207' style='width:300px; height:20px; vertical-align: middle;'></progress>\n",
       "      [12207/12207 9:55:24, Epoch 3/3]\n",
       "    </div>\n",
       "    <table border=\"1\" class=\"dataframe\">\n",
       "  <thead>\n",
       " <tr style=\"text-align: left;\">\n",
       "      <th>Epoch</th>\n",
       "      <th>Training Loss</th>\n",
       "      <th>Validation Loss</th>\n",
       "      <th>Precision</th>\n",
       "      <th>Recall</th>\n",
       "      <th>F1</th>\n",
       "    </tr>\n",
       "  </thead>\n",
       "  <tbody>\n",
       "    <tr>\n",
       "      <td>1</td>\n",
       "      <td>0.014000</td>\n",
       "      <td>0.010713</td>\n",
       "      <td>0.914484</td>\n",
       "      <td>0.948012</td>\n",
       "      <td>0.930946</td>\n",
       "    </tr>\n",
       "    <tr>\n",
       "      <td>2</td>\n",
       "      <td>0.007700</td>\n",
       "      <td>0.007610</td>\n",
       "      <td>0.940926</td>\n",
       "      <td>0.964016</td>\n",
       "      <td>0.952331</td>\n",
       "    </tr>\n",
       "    <tr>\n",
       "      <td>3</td>\n",
       "      <td>0.006000</td>\n",
       "      <td>0.007072</td>\n",
       "      <td>0.953584</td>\n",
       "      <td>0.966440</td>\n",
       "      <td>0.959969</td>\n",
       "    </tr>\n",
       "  </tbody>\n",
       "</table><p>"
      ],
      "text/plain": [
       "<IPython.core.display.HTML object>"
      ]
     },
     "metadata": {},
     "output_type": "display_data"
    },
    {
     "name": "stderr",
     "output_type": "stream",
     "text": [
      "c:\\Users\\HP\\anaconda3\\envs\\nlp-env\\lib\\site-packages\\torch\\utils\\data\\dataloader.py:665: UserWarning: 'pin_memory' argument is set as true but no accelerator is found, then device pinned memory won't be used.\n",
      "  warnings.warn(warn_msg)\n",
      "c:\\Users\\HP\\anaconda3\\envs\\nlp-env\\lib\\site-packages\\torch\\utils\\data\\dataloader.py:665: UserWarning: 'pin_memory' argument is set as true but no accelerator is found, then device pinned memory won't be used.\n",
      "  warnings.warn(warn_msg)\n"
     ]
    },
    {
     "data": {
      "text/plain": [
       "TrainOutput(global_step=12207, training_loss=0.012176835005095074, metrics={'train_runtime': 35728.3997, 'train_samples_per_second': 2.733, 'train_steps_per_second': 0.342, 'total_flos': 3189678346902528.0, 'train_loss': 0.012176835005095074, 'epoch': 3.0})"
      ]
     },
     "execution_count": 44,
     "metadata": {},
     "output_type": "execute_result"
    }
   ],
   "source": [
    "trainer.train()"
   ]
  },
  {
   "cell_type": "code",
   "execution_count": 63,
   "id": "84c1b1e4",
   "metadata": {},
   "outputs": [
    {
     "name": "stderr",
     "output_type": "stream",
     "text": [
      "c:\\Users\\HP\\anaconda3\\envs\\nlp-env\\lib\\site-packages\\torch\\utils\\data\\dataloader.py:665: UserWarning: 'pin_memory' argument is set as true but no accelerator is found, then device pinned memory won't be used.\n",
      "  warnings.warn(warn_msg)\n"
     ]
    },
    {
     "data": {
      "text/html": [
       "\n",
       "    <div>\n",
       "      \n",
       "      <progress value='16276' max='16276' style='width:300px; height:20px; vertical-align: middle;'></progress>\n",
       "      [16276/16276 3:18:02, Epoch 4/4]\n",
       "    </div>\n",
       "    <table border=\"1\" class=\"dataframe\">\n",
       "  <thead>\n",
       " <tr style=\"text-align: left;\">\n",
       "      <th>Epoch</th>\n",
       "      <th>Training Loss</th>\n",
       "      <th>Validation Loss</th>\n",
       "      <th>Precision</th>\n",
       "      <th>Recall</th>\n",
       "      <th>F1</th>\n",
       "    </tr>\n",
       "  </thead>\n",
       "  <tbody>\n",
       "    <tr>\n",
       "      <td>4</td>\n",
       "      <td>0.004900</td>\n",
       "      <td>0.007185</td>\n",
       "      <td>0.953021</td>\n",
       "      <td>0.970029</td>\n",
       "      <td>0.961450</td>\n",
       "    </tr>\n",
       "  </tbody>\n",
       "</table><p>"
      ],
      "text/plain": [
       "<IPython.core.display.HTML object>"
      ]
     },
     "metadata": {},
     "output_type": "display_data"
    },
    {
     "data": {
      "text/plain": [
       "TrainOutput(global_step=16276, training_loss=0.0009786580096674833, metrics={'train_runtime': 11886.4108, 'train_samples_per_second': 10.954, 'train_steps_per_second': 1.369, 'total_flos': 4252904462536704.0, 'train_loss': 0.0009786580096674833, 'epoch': 4.0})"
      ]
     },
     "execution_count": 63,
     "metadata": {},
     "output_type": "execute_result"
    }
   ],
   "source": [
    "training_args = TrainingArguments(\n",
    "  output_dir=\"./aspect_extraction_model\",\n",
    "  num_train_epochs=4,\n",
    "  per_device_train_batch_size=8,\n",
    "  per_device_eval_batch_size=8,\n",
    "  eval_strategy=\"epoch\",\n",
    "  save_strategy=\"epoch\",\n",
    "  logging_dir=\"./logs\",\n",
    "  logging_steps=50,\n",
    "  learning_rate=2e-5,\n",
    "  weight_decay=0.01,\n",
    "  report_to=\"none\"\n",
    ")\n",
    "\n",
    "trainer = Trainer(\n",
    "  model=model,\n",
    "  args=training_args,\n",
    "  train_dataset=train_dataset,\n",
    "  eval_dataset=test_dataset,\n",
    "  compute_metrics=compute_metrics\n",
    ")\n",
    "\n",
    "trainer.train(resume_from_checkpoint=\"aspect_extraction_model\\checkpoint-12207\")"
   ]
  },
  {
   "cell_type": "markdown",
   "id": "4a918aaa",
   "metadata": {},
   "source": [
    "### Evaluation"
   ]
  },
  {
   "cell_type": "code",
   "execution_count": 3,
   "id": "68f40ef4",
   "metadata": {},
   "outputs": [],
   "source": [
    "model = BertForTokenClassification.from_pretrained(\"aspect_extraction_model\\checkpoint-12207\")\n",
    "tokenizer = BertTokenizerFast.from_pretrained(\"bert-base-uncased\")"
   ]
  },
  {
   "cell_type": "code",
   "execution_count": 4,
   "id": "b4315c61",
   "metadata": {},
   "outputs": [],
   "source": [
    "def convert_predictions_to_aspects(text, predictions, offset_mapping, input_ids, tokenizer):\n",
    "  aspects = []\n",
    "  current_aspect = None\n",
    "  \n",
    "  for i, (pred_label, (start_pos, end_pos)) in enumerate(zip(predictions, offset_mapping)):\n",
    "    # Skip special tokens and padding\n",
    "    if start_pos == 0 and end_pos == 0:\n",
    "      continue\n",
    "        \n",
    "    token = tokenizer.decode([input_ids[i]], skip_special_tokens=True)\n",
    "    \n",
    "    if pred_label == 1:  # B- (Beginning of aspect)\n",
    "      # Save previous aspect if exists\n",
    "      if current_aspect is not None:\n",
    "        aspects.append(current_aspect)\n",
    "      \n",
    "      # Start new aspect\n",
    "      current_aspect = {\n",
    "        \"term\": text[start_pos:end_pos],\n",
    "        \"from\": start_pos,\n",
    "        \"to\": end_pos,\n",
    "        \"tokens\": [token]\n",
    "      }\n",
    "        \n",
    "    elif pred_label == 2:  # I- (Inside aspect)\n",
    "      if current_aspect is not None:\n",
    "        # Extend current aspect\n",
    "        current_aspect[\"term\"] = text[current_aspect[\"from\"]:end_pos]\n",
    "        current_aspect[\"to\"] = end_pos\n",
    "        current_aspect[\"tokens\"].append(token)\n",
    "      \n",
    "      else:\n",
    "        current_aspect = {\n",
    "          \"term\": text[start_pos:end_pos],\n",
    "          \"from\": start_pos,\n",
    "          \"to\": end_pos,\n",
    "          \"tokens\": [token]\n",
    "        }\n",
    "        \n",
    "    elif pred_label == 0:  # O (Outside)\n",
    "      # End current aspect if exists\n",
    "      if current_aspect is not None:\n",
    "        aspects.append(current_aspect)\n",
    "        current_aspect = None\n",
    "  \n",
    "  if current_aspect is not None:\n",
    "    aspects.append(current_aspect)\n",
    "  \n",
    "  return aspects\n"
   ]
  },
  {
   "cell_type": "code",
   "execution_count": 5,
   "id": "d3d7e4a3",
   "metadata": {},
   "outputs": [],
   "source": [
    "def aspects_extraction(text, model, tokenizer, max_length=64):\n",
    "  model.eval()\n",
    "  encoding = tokenizer(\n",
    "    text,\n",
    "    truncation = True,\n",
    "    padding = 'max_length',\n",
    "    max_length = max_length,\n",
    "    return_offsets_mapping = True,\n",
    "    return_tensors = 'pt'\n",
    "  )\n",
    "  input_ids = encoding[\"input_ids\"]\n",
    "  attention_mask = encoding[\"attention_mask\"]\n",
    "\n",
    "  with torch.no_grad():\n",
    "    outputs = model(input_ids = input_ids, attention_mask = attention_mask)\n",
    "    predicted_labels = torch.argmax(outputs.logits, dim=-1) # outputs.logits shape: [1, 64, 3]\n",
    "\n",
    "  aspects = convert_predictions_to_aspects(text,\n",
    "                                           predicted_labels[0].cpu().numpy(),\n",
    "                                           encoding[\"offset_mapping\"][0].cpu().numpy(),\n",
    "                                           input_ids[0].cpu().numpy(),\n",
    "                                           tokenizer)\n",
    "\n",
    "  return aspects\n",
    "  "
   ]
  },
  {
   "cell_type": "code",
   "execution_count": 7,
   "id": "ecfae555",
   "metadata": {},
   "outputs": [],
   "source": [
    "def format_output(text, aspects):\n",
    "  print(f\"Text: {text}\")\n",
    "  print(f\"Found {len(aspects)} aspects:\")\n",
    "  \n",
    "  for i, aspect in enumerate(aspects, 1):\n",
    "    print(f\"  {i}. '{aspect['term']}'\")\n",
    "      \n",
    "  print(\"-\" * 50)"
   ]
  },
  {
   "cell_type": "code",
   "execution_count": 9,
   "id": "03de03bc",
   "metadata": {},
   "outputs": [
    {
     "name": "stdout",
     "output_type": "stream",
     "text": [
      "Text: Anyway, the owner was fake.\n",
      "Found 1 aspects:\n",
      "  1. 'owner'\n",
      "--------------------------------------------------\n",
      "Text: Owner is pleasant and entertaining.\n",
      "Found 1 aspects:\n",
      "  1. 'Owner'\n",
      "--------------------------------------------------\n",
      "Text: I have never in my life sent back food before, but I simply had to, and the waiter argued with me over this.\n",
      "Found 2 aspects:\n",
      "  1. 'food'\n",
      "  2. 'waiter'\n",
      "--------------------------------------------------\n",
      "Text: Although the restaurant itself is nice, I prefer not to go for the food.\n",
      "Found 1 aspects:\n",
      "  1. 'food'\n",
      "--------------------------------------------------\n",
      "Text: Creamy appetizers--taramasalata, eggplant salad, and Greek yogurt (with cuccumber, dill, and garlic) taste excellent when on warm pitas.\n",
      "Found 5 aspects:\n",
      "  1. 'Creamy appetizers'\n",
      "  2. '--taramasalata'\n",
      "  3. ', eggplant salad'\n",
      "  4. 'Greek yogurt (with cuccumber, dill, and garlic'\n",
      "  5. 'warm pitas'\n",
      "--------------------------------------------------\n"
     ]
    }
   ],
   "source": [
    "test_data = pd.read_csv(r\"C:\\Users\\HP\\Downloads\\testing and evaluation\\Restaurants_Test_Data_PhaseA.csv\")\n",
    "test_data = test_data.tail(5)\n",
    "for _ , row in test_data.iterrows():\n",
    "  aspects = aspects_extraction(row['Sentence'], model, tokenizer)\n",
    "  format_output(row['Sentence'], aspects)"
   ]
  }
 ],
 "metadata": {
  "kernelspec": {
   "display_name": "Python (nlp-env)",
   "language": "python",
   "name": "nlp-env"
  },
  "language_info": {
   "codemirror_mode": {
    "name": "ipython",
    "version": 3
   },
   "file_extension": ".py",
   "mimetype": "text/x-python",
   "name": "python",
   "nbconvert_exporter": "python",
   "pygments_lexer": "ipython3",
   "version": "3.10.18"
  }
 },
 "nbformat": 4,
 "nbformat_minor": 5
}
